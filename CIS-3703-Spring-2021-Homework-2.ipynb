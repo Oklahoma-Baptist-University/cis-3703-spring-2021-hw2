{
 "cells": [
  {
   "cell_type": "markdown",
   "metadata": {},
   "source": [
    "Submitting this homework implies that you agree to the OBU Honor Code:\n",
    "\n",
    "<b>On my honor as an OBU student, I pledge that I have neither received aid nor given aid on this homework.</b>"
   ]
  },
  {
   "cell_type": "markdown",
   "metadata": {},
   "source": [
    "# CIS 3703 Python Programming Homework #2"
   ]
  },
  {
   "cell_type": "markdown",
   "metadata": {},
   "source": [
    "Using this notebook, perform the following tasks."
   ]
  },
  {
   "cell_type": "markdown",
   "metadata": {},
   "source": [
    "## Finding the average of numbers (con't)"
   ]
  },
  {
   "cell_type": "markdown",
   "metadata": {},
   "source": [
    "In homework #2, we wrote functions to compute the average of a fixed list of numbers. In this task, pass a list of numbers to a function and compute the average of the list.\n",
    "\n",
    "<b>Grading Rubric</b>\n",
    "<ul>\n",
    "    <li>5 points for complete implementation. \n",
    "    <li>0 points for any errors or missing implementation.\n",
    "</ul>"
   ]
  },
  {
   "cell_type": "code",
   "execution_count": 2,
   "metadata": {},
   "outputs": [
    {
     "name": "stdout",
     "output_type": "stream",
     "text": [
      "Element  1\n",
      "Element  5\n",
      "Element  6\n",
      "Element  8\n"
     ]
    }
   ],
   "source": [
    "# Here is some example code for printing out a list of numbers. You should extend this for your task\n",
    "def print_list(the_list):\n",
    "    for element in the_list:\n",
    "        print(\"Element \", element)\n",
    "print_list([1, 5, 6, 8])"
   ]
  },
  {
   "cell_type": "code",
   "execution_count": 3,
   "metadata": {},
   "outputs": [],
   "source": [
    "# Enter your code here\n"
   ]
  },
  {
   "cell_type": "markdown",
   "metadata": {},
   "source": [
    "## Future value calculation "
   ]
  },
  {
   "cell_type": "markdown",
   "metadata": {},
   "source": [
    "Write a function to implement problem 7 on page 55 from the text.\n",
    "<p> <b>Grading Rubric</b>\n",
    "<ul>\n",
    "    <li> 5 points for correct implementation\n",
    "    <li> 0 points for any errors or missing implementation.\n",
    "</ul>"
   ]
  },
  {
   "cell_type": "code",
   "execution_count": 4,
   "metadata": {},
   "outputs": [],
   "source": [
    "# Enter your code here"
   ]
  },
  {
   "cell_type": "markdown",
   "metadata": {},
   "source": [
    "Write a function to implement problem 8 on page 55 from the text\n",
    "\n",
    "<b>Grading Rubric</b>\n",
    "<ul>\n",
    "    <li> 5 points for correct implementation\n",
    "    <li> 0 points for any errors or missing implementation.\n",
    "</ul>"
   ]
  },
  {
   "cell_type": "code",
   "execution_count": 5,
   "metadata": {},
   "outputs": [],
   "source": [
    "# Enter your code here"
   ]
  },
  {
   "cell_type": "markdown",
   "metadata": {},
   "source": [
    "## Geometry (will eventually be useful for data science)"
   ]
  },
  {
   "cell_type": "markdown",
   "metadata": {},
   "source": [
    "Write two functions to perform the following: slope of line calculation and distance calculation as described on page 80 in the text (problems 6 and 7, respectively).\n",
    "\n",
    "<b>Grading Rubric</b>\n",
    "<ul>\n",
    "    <li> 10 points for correct implementation (5 points / function)\n",
    "    <li> 0 points for any errors or missing implementation.\n",
    "</ul>"
   ]
  },
  {
   "cell_type": "code",
   "execution_count": 7,
   "metadata": {},
   "outputs": [],
   "source": [
    "# Enter your code here"
   ]
  },
  {
   "cell_type": "code",
   "execution_count": null,
   "metadata": {},
   "outputs": [],
   "source": []
  }
 ],
 "metadata": {
  "kernelspec": {
   "display_name": "Python 3",
   "language": "python",
   "name": "python3"
  },
  "language_info": {
   "codemirror_mode": {
    "name": "ipython",
    "version": 3
   },
   "file_extension": ".py",
   "mimetype": "text/x-python",
   "name": "python",
   "nbconvert_exporter": "python",
   "pygments_lexer": "ipython3",
   "version": "3.9.1"
  }
 },
 "nbformat": 4,
 "nbformat_minor": 4
}
