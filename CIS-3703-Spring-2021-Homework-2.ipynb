{
 "cells": [
  {
   "cell_type": "markdown",
   "metadata": {},
   "source": [
    "Submitting this homework implies that you agree to the OBU Honor Code:\n",
    "\n",
    "<b>On my honor as an OBU student, I pledge that I have neither received aid nor given aid on this homework.</b>"
   ]
  },
  {
   "cell_type": "markdown",
   "metadata": {},
   "source": [
    "# CIS 3703 Python Programming Homework #2"
   ]
  },
  {
   "cell_type": "markdown",
   "metadata": {},
   "source": [
    "Using this notebook, perform the following tasks."
   ]
  },
  {
   "cell_type": "markdown",
   "metadata": {},
   "source": [
    "## Finding the average of numbers (con't)"
   ]
  },
  {
   "cell_type": "markdown",
   "metadata": {},
   "source": [
    "In homework #2, we wrote functions to compute the average of a fixed list of numbers. In this task, pass a list of numbers to a function and compute the average of the list."
   ]
  },
  {
   "cell_type": "code",
   "execution_count": 1,
   "metadata": {},
   "outputs": [
    {
     "name": "stdout",
     "output_type": "stream",
     "text": [
      "Element  1\n",
      "Element  5\n",
      "Element  6\n",
      "Element  8\n"
     ]
    }
   ],
   "source": [
    "# Here is some example code for printing out a list of numbers. You should extend this for your task\n",
    "def print_list(the_list):\n",
    "    for element in the_list:\n",
    "        print(\"Element \", element)\n",
    "print_list([1, 5, 6, 8])"
   ]
  },
  {
   "cell_type": "code",
   "execution_count": 2,
   "metadata": {},
   "outputs": [
    {
     "name": "stdout",
     "output_type": "stream",
     "text": [
      "The average of the numbers is 61.675\n"
     ]
    }
   ],
   "source": [
    "# 5 points\n",
    "# Enter your code here\n",
    "def average_of_list(the_list):\n",
    "    # Initialize the variables for the total of all the values and the\n",
    "    # number of values\n",
    "    total = 0\n",
    "    count = 0\n",
    "    for element in the_list:\n",
    "        total = total + element\n",
    "        count = count + 1\n",
    "    print(\"The average of the numbers is\", total / count)\n",
    "average_of_list([34, 67, 34.6, 111.1])"
   ]
  },
  {
   "cell_type": "markdown",
   "metadata": {},
   "source": [
    "## Future value calculation "
   ]
  },
  {
   "cell_type": "markdown",
   "metadata": {},
   "source": [
    "Write a function to implement problem 7 on page 55 from the text."
   ]
  },
  {
   "cell_type": "code",
   "execution_count": 3,
   "metadata": {},
   "outputs": [
    {
     "name": "stdout",
     "output_type": "stream",
     "text": [
      "This function calculates the future value of a 10 year investment\n",
      "Enter the principal: 100\n",
      "Enter the APR: 0.05\n",
      "Enter the annual investment amount200\n",
      "The value in 10 years is:  2804.246895142999\n"
     ]
    }
   ],
   "source": [
    "# 20 points\n",
    "# Enter your code here\n",
    "def future_value():\n",
    "    print(\"This function calculates the future value of a 10 year investment\")\n",
    "    principal = eval(input(\"Enter the principal: \"))\n",
    "    apr = eval(input(\"Enter the APR: \"))\n",
    "    # Added this\n",
    "    investment = eval(input(\"Enter the annual investment amount\"))\n",
    "    for i in range(10):\n",
    "        # Each year, add the annual investment\n",
    "        principal = (principal + investment) * (1 + apr)\n",
    "    print(\"The value in 10 years is: \", principal)\n",
    "future_value()"
   ]
  },
  {
   "cell_type": "markdown",
   "metadata": {},
   "source": [
    "Write a function to implement problem 8 on page 55 from the text"
   ]
  },
  {
   "cell_type": "code",
   "execution_count": 4,
   "metadata": {},
   "outputs": [
    {
     "name": "stdout",
     "output_type": "stream",
     "text": [
      "This function calculates the future value of a 10 year investment\n",
      "Enter the principal: 1000\n",
      "Enter the APR: 0.05\n",
      "Enter the annual investment amount0\n",
      "Enter the number of times the interest is compunded3\n",
      "The value in 10 years is:  1641.9409670661785\n"
     ]
    }
   ],
   "source": [
    "# 20 points\n",
    "# Enter your code here\n",
    "def future_value():\n",
    "    print(\"This function calculates the future value of a 10 year investment\")\n",
    "    principal = eval(input(\"Enter the principal: \"))\n",
    "    apr = eval(input(\"Enter the APR: \"))\n",
    "    # Added this\n",
    "    investment = eval(input(\"Enter the annual investment amount\"))\n",
    "    # Added this\n",
    "    periods = eval(input(\"Enter the number of times the interest is compunded\"))\n",
    "    # Incremented the compounding periods\n",
    "    for i in range(10 * periods):\n",
    "        # Each year, add the annual investment and divide the apr by the compounding periods\n",
    "        principal = (principal + investment) * (1 + (apr / periods))\n",
    "    print(\"The value in 10 years is: \", principal)\n",
    "future_value()"
   ]
  },
  {
   "cell_type": "markdown",
   "metadata": {},
   "source": [
    "## Geometry (will eventually be useful for data science)"
   ]
  },
  {
   "cell_type": "markdown",
   "metadata": {},
   "source": [
    "Write two functions to perform the following: slope of line calculation and distance calculation as described on page 80 in the text (problems 6 and 7, respectively)."
   ]
  },
  {
   "cell_type": "code",
   "execution_count": 5,
   "metadata": {},
   "outputs": [
    {
     "name": "stdout",
     "output_type": "stream",
     "text": [
      "Enter the x and y coords1\n"
     ]
    },
    {
     "ename": "TypeError",
     "evalue": "cannot unpack non-iterable int object",
     "output_type": "error",
     "traceback": [
      "\u001b[1;31m---------------------------------------------------------------------------\u001b[0m",
      "\u001b[1;31mTypeError\u001b[0m                                 Traceback (most recent call last)",
      "\u001b[1;32m<ipython-input-5-2931a5b1d637>\u001b[0m in \u001b[0;36m<module>\u001b[1;34m\u001b[0m\n\u001b[0;32m      8\u001b[0m     \u001b[1;32mreturn\u001b[0m \u001b[0mmath\u001b[0m\u001b[1;33m.\u001b[0m\u001b[0msqrt\u001b[0m\u001b[1;33m(\u001b[0m\u001b[1;33m(\u001b[0m\u001b[0mx2\u001b[0m \u001b[1;33m-\u001b[0m \u001b[0mx1\u001b[0m\u001b[1;33m)\u001b[0m \u001b[1;33m**\u001b[0m \u001b[1;36m2\u001b[0m \u001b[1;33m+\u001b[0m \u001b[1;33m(\u001b[0m\u001b[0my2\u001b[0m \u001b[1;33m-\u001b[0m \u001b[0my1\u001b[0m\u001b[1;33m)\u001b[0m \u001b[1;33m**\u001b[0m \u001b[1;36m2\u001b[0m\u001b[1;33m)\u001b[0m\u001b[1;33m\u001b[0m\u001b[1;33m\u001b[0m\u001b[0m\n\u001b[0;32m      9\u001b[0m \u001b[1;33m\u001b[0m\u001b[0m\n\u001b[1;32m---> 10\u001b[1;33m \u001b[0mx1\u001b[0m\u001b[1;33m,\u001b[0m \u001b[0mx2\u001b[0m\u001b[1;33m,\u001b[0m \u001b[0my1\u001b[0m\u001b[1;33m,\u001b[0m \u001b[0my2\u001b[0m \u001b[1;33m=\u001b[0m \u001b[0meval\u001b[0m\u001b[1;33m(\u001b[0m\u001b[0minput\u001b[0m\u001b[1;33m(\u001b[0m\u001b[1;34m\"Enter the x and y coords\"\u001b[0m\u001b[1;33m)\u001b[0m\u001b[1;33m)\u001b[0m\u001b[1;33m\u001b[0m\u001b[1;33m\u001b[0m\u001b[0m\n\u001b[0m\u001b[0;32m     11\u001b[0m \u001b[0mprint\u001b[0m\u001b[1;33m(\u001b[0m\u001b[1;34m\"The slope is\"\u001b[0m\u001b[1;33m,\u001b[0m \u001b[0mslope\u001b[0m\u001b[1;33m(\u001b[0m\u001b[0mx1\u001b[0m\u001b[1;33m,\u001b[0m \u001b[0mx2\u001b[0m\u001b[1;33m,\u001b[0m \u001b[0my1\u001b[0m\u001b[1;33m,\u001b[0m \u001b[0my2\u001b[0m\u001b[1;33m)\u001b[0m\u001b[1;33m)\u001b[0m\u001b[1;33m\u001b[0m\u001b[1;33m\u001b[0m\u001b[0m\n\u001b[0;32m     12\u001b[0m \u001b[0mprint\u001b[0m\u001b[1;33m(\u001b[0m\u001b[1;34m\"The distance between is\"\u001b[0m\u001b[1;33m,\u001b[0m \u001b[0mdistance\u001b[0m\u001b[1;33m(\u001b[0m\u001b[0mx1\u001b[0m\u001b[1;33m,\u001b[0m \u001b[0mx2\u001b[0m\u001b[1;33m,\u001b[0m \u001b[0my1\u001b[0m\u001b[1;33m,\u001b[0m \u001b[0my2\u001b[0m\u001b[1;33m)\u001b[0m\u001b[1;33m)\u001b[0m\u001b[1;33m\u001b[0m\u001b[1;33m\u001b[0m\u001b[0m\n",
      "\u001b[1;31mTypeError\u001b[0m: cannot unpack non-iterable int object"
     ]
    }
   ],
   "source": [
    "# 10 points\n",
    "# Enter your code here\n",
    "import math\n",
    "def slope(x1, x2, y1, y2):\n",
    "    return (y2 - y1) / (x2 - x1)\n",
    "\n",
    "def distance(x1, x2, y1, y2):\n",
    "    return math.sqrt((x2 - x1) ** 2 + (y2 - y1) ** 2)\n",
    "\n",
    "x1, x2, y1, y2 = eval(input(\"Enter the x and y coords\"))\n",
    "print(\"The slope is\", slope(x1, x2, y1, y2))\n",
    "print(\"The distance between is\", distance(x1, x2, y1, y2))"
   ]
  },
  {
   "cell_type": "markdown",
   "metadata": {},
   "source": [
    "## Miscellaneous Functions"
   ]
  },
  {
   "cell_type": "markdown",
   "metadata": {},
   "source": [
    "Write a function that calculates the Gregorian epact as described in problem 8 on page 80."
   ]
  },
  {
   "cell_type": "code",
   "execution_count": null,
   "metadata": {},
   "outputs": [],
   "source": [
    "# 10 points\n",
    "# Enter your code here\n",
    "def epact(year):\n",
    "    C = year // 100\n",
    "    return (8 + (C // 4) - C + ((8 * C + 13) // 25) + 11 * (year % 19)) % 30\n",
    "\n",
    "year = eval(input(\"Enter the year\"))\n",
    "print(\"The Gregorian epact is\", epact(year))"
   ]
  },
  {
   "cell_type": "markdown",
   "metadata": {},
   "source": [
    "Write a function that calculates the length of a ladder to reach a given height when leaned against a house as described in problem 10 on page 81."
   ]
  },
  {
   "cell_type": "code",
   "execution_count": null,
   "metadata": {},
   "outputs": [],
   "source": [
    "# 5 points\n",
    "# Enter your code here\n",
    "def ladder_length(height, angle):\n",
    "    # Need to convert from degrees to radians\n",
    "    return height / math.sin(angle * (math.pi / 180))\n",
    "height, angle = eval(input(\"Enter the house height and the angle (in degrees)\"))\n",
    "print(\"The length of the ladder is\", ladder_length(height, angle))"
   ]
  },
  {
   "cell_type": "markdown",
   "metadata": {},
   "source": [
    "Write a function that approximates the value of pi as described in problem 15 on page 82."
   ]
  },
  {
   "cell_type": "code",
   "execution_count": null,
   "metadata": {},
   "outputs": [],
   "source": [
    "# 10 points\n",
    "# Enter your code here\n",
    "def approx_pi(n):\n",
    "    pi = 0\n",
    "    count = 0 # This will be used to figure out the factor\n",
    "    # This will generate a list of n odd numbers\n",
    "    for i in range(1, n * 2, 2):\n",
    "        term = (-1) ** (count % 2) * 4 / i\n",
    "        ## DEBUGGING print(\"Term\", term)\n",
    "        pi = pi + term\n",
    "        count = count + 1  \n",
    "    return pi\n",
    "n = eval(input(\"Enter n\"))\n",
    "pi = approx_pi(n)\n",
    "print(\"Pi (aprox)\", pi, \" within \", (math.pi - pi), \" of the real value of pi\")"
   ]
  },
  {
   "cell_type": "code",
   "execution_count": null,
   "metadata": {},
   "outputs": [],
   "source": []
  },
  {
   "cell_type": "code",
   "execution_count": null,
   "metadata": {},
   "outputs": [],
   "source": []
  }
 ],
 "metadata": {
  "kernelspec": {
   "display_name": "Python 3",
   "language": "python",
   "name": "python3"
  },
  "language_info": {
   "codemirror_mode": {
    "name": "ipython",
    "version": 3
   },
   "file_extension": ".py",
   "mimetype": "text/x-python",
   "name": "python",
   "nbconvert_exporter": "python",
   "pygments_lexer": "ipython3",
   "version": "3.9.1"
  }
 },
 "nbformat": 4,
 "nbformat_minor": 4
}
